{
 "cells": [
  {
   "cell_type": "code",
   "execution_count": 1,
   "metadata": {},
   "outputs": [],
   "source": [
    "from pylsl import StreamInlet, resolve_stream\n",
    "from scipy import signal\n",
    "import scipy\n",
    "import numpy as np\n",
    "import pylab as pl"
   ]
  },
  {
   "cell_type": "code",
   "execution_count": null,
   "metadata": {},
   "outputs": [
    {
     "name": "stdout",
     "output_type": "stream",
     "text": [
      "looking for an EEG stream...\n"
     ]
    }
   ],
   "source": [
    "#global parameters\n",
    "srate = 250\n",
    "epoch_len = srate\n",
    "\n",
    "# first resolve an EEG stream on the lab network\n",
    "print(\"looking for an EEG stream...\")\n",
    "streams = resolve_stream('type', 'EEG')\n",
    "\n",
    "# create a new inlet to read from the stream\n",
    "inlet = StreamInlet(streams[0])\n",
    "\n",
    "# initiate the signal with a first sample\n",
    "sample, timestamp = inlet.pull_sample()\n",
    "\n",
    "#the data and the time vector\n",
    "data = [sample[0]]\n",
    "timevec = [0]\n",
    "\n",
    "while True:\n",
    "\n",
    "    # get a new sample\n",
    "    sample, timestamp = inlet.pull_sample()\n",
    "    \n",
    "    #New datas are added to the buffers\n",
    "    data.append(sample[0])\n",
    "    timevec.append(len(timevec)/srate)\n",
    "\n",
    "    if(len(data) == epoch_len):\n",
    "        print()"
   ]
  },
  {
   "cell_type": "code",
   "execution_count": null,
   "metadata": {},
   "outputs": [],
   "source": []
  }
 ],
 "metadata": {
  "kernelspec": {
   "display_name": "Python 3",
   "language": "python",
   "name": "python3"
  },
  "language_info": {
   "codemirror_mode": {
    "name": "ipython",
    "version": 3
   },
   "file_extension": ".py",
   "mimetype": "text/x-python",
   "name": "python",
   "nbconvert_exporter": "python",
   "pygments_lexer": "ipython3",
   "version": "3.7.3"
  }
 },
 "nbformat": 4,
 "nbformat_minor": 2
}
