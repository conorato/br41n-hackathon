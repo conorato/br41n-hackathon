{
 "cells": [
  {
   "cell_type": "code",
   "execution_count": 95,
   "metadata": {},
   "outputs": [],
   "source": [
    "from mne.io import RawArray\n",
    "from mne import create_info\n",
    "from mne.time_frequency import psd_welch\n",
    "from mne import Epochs\n",
    "from sklearn.pipeline import Pipeline\n",
    "from sklearn.preprocessing import (\n",
    "    FunctionTransformer,\n",
    "    StandardScaler,\n",
    ")\n",
    "from sklearn.model_selection import train_test_split\n",
    "from sklearn.ensemble import RandomForestClassifier\n",
    "from sklearn.metrics import classification_report\n",
    "\n",
    "\n",
    "\n",
    "import numpy as np\n",
    "import joblib\n",
    "import mne"
   ]
  },
  {
   "cell_type": "code",
   "execution_count": 2,
   "metadata": {},
   "outputs": [],
   "source": [
    "srate = 250\n",
    "epoch_len = srate\n",
    "CHANNELS = ['Cz', 'FC2', 'CP2', 'C4', 'FC6', 'CP6', 'T8']\n",
    "FREQ_BANDS_RANGE = {\n",
    "    'DELTA': [0.5, 4.5],\n",
    "    'THETA': [4.5, 8.5],\n",
    "    'ALPHA': [8.5, 11.5],\n",
    "    'SIGMA': [11.5, 15.5],\n",
    "    'BETA': [15.5, 30]\n",
    "}\n",
    "RAW_INFO = create_info(sfreq=srate, ch_types='eeg', ch_names=CHANNELS)"
   ]
  },
  {
   "cell_type": "code",
   "execution_count": 21,
   "metadata": {},
   "outputs": [],
   "source": [
    "filename = 'dataset/OpenBCI-RAW-2020-10-12_08-41-25_JD_02.txt'\n",
    "skiprows = 7 + srate*7\n",
    "\n",
    "# filename = 'dataset/OpenBCI-RAW-2020-10-10_20-58-47-Josquin-Duchaine.txt'\n",
    "# skiprows = 7\n",
    "\n",
    "openbci_dataset = np.loadtxt(filename, skiprows=skiprows, delimiter=',', usecols=(1,2,3,4,5,6,7))\n",
    "openbci_dataset = openbci_dataset.T"
   ]
  },
  {
   "cell_type": "code",
   "execution_count": 22,
   "metadata": {},
   "outputs": [
    {
     "name": "stdout",
     "output_type": "stream",
     "text": [
      "(7, 193495)\n"
     ]
    }
   ],
   "source": [
    "print(openbci_dataset.shape)"
   ]
  },
  {
   "cell_type": "code",
   "execution_count": 23,
   "metadata": {},
   "outputs": [
    {
     "data": {
      "text/plain": [
       "<RawArray | 7 x 193495 (774.0 s), ~10.4 MB, data loaded>"
      ]
     },
     "execution_count": 23,
     "metadata": {},
     "output_type": "execute_result"
    }
   ],
   "source": [
    "raw_array = RawArray(openbci_dataset, info=RAW_INFO, verbose=False)\n",
    "# raw_array.notch_filter(60)\n",
    "raw_array.filter(0.5,30)\n"
   ]
  },
  {
   "cell_type": "code",
   "execution_count": 37,
   "metadata": {},
   "outputs": [
    {
     "data": {
      "text/plain": [
       "193495"
      ]
     },
     "execution_count": 37,
     "metadata": {},
     "output_type": "execute_result"
    }
   ],
   "source": [
    "raw_array.n_times"
   ]
  },
  {
   "cell_type": "code",
   "execution_count": 24,
   "metadata": {},
   "outputs": [
    {
     "data": {
      "text/plain": [
       "array([[     0,      0,      0],\n",
       "       [     1,      0,      0],\n",
       "       [     2,      0,      0],\n",
       "       ...,\n",
       "       [193492,      0,      0],\n",
       "       [193493,      0,      0],\n",
       "       [193494,      0,      0]])"
      ]
     },
     "execution_count": 24,
     "metadata": {},
     "output_type": "execute_result"
    }
   ],
   "source": [
    "events = np.arange(raw_array.n_times)\n",
    "result = np.zeros((events.shape[0], 3))\n",
    "result[:,0] = events\n",
    "result = result.astype('int')\n",
    "result"
   ]
  },
  {
   "cell_type": "code",
   "execution_count": 25,
   "metadata": {},
   "outputs": [
    {
     "data": {
      "text/plain": [
       "<Epochs |  193246 events (all good), 0 - 0.996 sec, baseline off, ~2.52 GB, data loaded,\n",
       " '0': 193246>"
      ]
     },
     "execution_count": 25,
     "metadata": {},
     "output_type": "execute_result"
    }
   ],
   "source": [
    "epochs = Epochs(\n",
    "    raw=raw_array,\n",
    "    events=result,\n",
    "    tmin=0,\n",
    "    tmax=1-(1/srate),\n",
    "    preload=True,\n",
    "    baseline=None,\n",
    "    verbose=False\n",
    ")\n",
    "epochs"
   ]
  },
  {
   "cell_type": "code",
   "execution_count": 38,
   "metadata": {},
   "outputs": [],
   "source": [
    "psds, freqs = psd_welch(\n",
    "    epochs[0:10000],\n",
    "    fmin=0.5,\n",
    "    fmax=30.,\n",
    "    n_fft=250,\n",
    "    verbose=False,\n",
    ")"
   ]
  },
  {
   "cell_type": "code",
   "execution_count": 39,
   "metadata": {},
   "outputs": [
    {
     "name": "stdout",
     "output_type": "stream",
     "text": [
      "(10000, 35)\n"
     ]
    }
   ],
   "source": [
    "features = []\n",
    "for fmin, fmax in FREQ_BANDS_RANGE.values():\n",
    "    psds_band = psds[:,:, (freqs >= fmin) & (freqs < fmax)].mean(axis=-1)\n",
    "    features.append(psds_band.reshape(len(psds), -1))\n",
    "\n",
    "features = np.concatenate(features, axis=1)\n",
    "\n",
    "print(features.shape)\n",
    "# print('Hand is: ', pipeline.predict(features))"
   ]
  },
  {
   "cell_type": "code",
   "execution_count": 40,
   "metadata": {},
   "outputs": [
    {
     "name": "stderr",
     "output_type": "stream",
     "text": [
      "/Users/claudiaonorato/miniconda3/envs/py3/lib/python3.6/site-packages/sklearn/base.py:318: UserWarning: Trying to unpickle estimator StandardScaler from version 0.21.2 when using version 0.22.2.post1. This might lead to breaking code or invalid results. Use at your own risk.\n",
      "  UserWarning)\n",
      "/Users/claudiaonorato/miniconda3/envs/py3/lib/python3.6/site-packages/sklearn/base.py:318: UserWarning: Trying to unpickle estimator DecisionTreeClassifier from version 0.21.2 when using version 0.22.2.post1. This might lead to breaking code or invalid results. Use at your own risk.\n",
      "  UserWarning)\n",
      "/Users/claudiaonorato/miniconda3/envs/py3/lib/python3.6/site-packages/sklearn/base.py:318: UserWarning: Trying to unpickle estimator RandomForestClassifier from version 0.21.2 when using version 0.22.2.post1. This might lead to breaking code or invalid results. Use at your own risk.\n",
      "  UserWarning)\n",
      "/Users/claudiaonorato/miniconda3/envs/py3/lib/python3.6/site-packages/sklearn/base.py:318: UserWarning: Trying to unpickle estimator Pipeline from version 0.21.2 when using version 0.22.2.post1. This might lead to breaking code or invalid results. Use at your own risk.\n",
      "  UserWarning)\n"
     ]
    }
   ],
   "source": [
    "pipeline = joblib.load(\"./models/rf.joblib\")\n"
   ]
  },
  {
   "cell_type": "code",
   "execution_count": 44,
   "metadata": {},
   "outputs": [
    {
     "data": {
      "text/plain": [
       "(array([0, 1], dtype=int32), array([9759,  241]))"
      ]
     },
     "execution_count": 44,
     "metadata": {},
     "output_type": "execute_result"
    }
   ],
   "source": [
    "np.unique(pipeline.predict(features), return_counts=True)"
   ]
  },
  {
   "cell_type": "markdown",
   "metadata": {},
   "source": [
    "We see that we predict some epochs as hand closed..."
   ]
  },
  {
   "cell_type": "markdown",
   "metadata": {},
   "source": [
    "## Train & test on OpenBCI data"
   ]
  },
  {
   "cell_type": "code",
   "execution_count": 82,
   "metadata": {},
   "outputs": [],
   "source": [
    "FREQ_BANDS_RANGE = {\n",
    "    'DELTA': [0.5, 4.5],\n",
    "    'THETA': [4.5, 8.5],\n",
    "    'ALPHA': [8.5, 11.5],\n",
    "    'SIGMA': [11.5, 15.5],\n",
    "    'BETA': [15.5, 30]\n",
    "}\n",
    "\n",
    "def get_psds_from_epochs(epochs):\n",
    "    \"\"\"Extracts power spectrum densities from epochs\n",
    "    Returns\n",
    "    --------\n",
    "    psds with associated frequencies calculated with the welch method.\n",
    "    \"\"\"\n",
    "    psds, freqs = psd_welch(epochs, fmin=0.5, fmax=30.,n_fft=250,)\n",
    "    return psds, freqs\n",
    "\n",
    "def get_mean_psds(psds_with_freqs, are_relative=False):\n",
    "    \"\"\"EEG power band feature extraction.\n",
    "    Input\n",
    "    -------\n",
    "    psds_with_freqs: tuple which contains\n",
    "            - (nb_epochs, nb_chan=1, nb_freqs) psds amplitudes\n",
    "            - (nb_freqs,) corresponding frequency values\n",
    "            \n",
    "    are_relative: boolean which indicates if the mean band powers\n",
    "        for each subband are relative to the total power or not.\n",
    "    \n",
    "    Returns\n",
    "    -------\n",
    "    X : numpy array of shape [n_samples, nb_subband=5]\n",
    "        Transformed data.\n",
    "    \"\"\"\n",
    "    psds = psds_with_freqs[0]\n",
    "    freqs = psds_with_freqs[1]\n",
    "    \n",
    "    if are_relative:\n",
    "        psds /= np.sum(psds, axis=-1, keepdims=True)\n",
    "\n",
    "    X = []\n",
    "    for fmin, fmax in FREQ_BANDS_RANGE.values():\n",
    "        psds_band = psds[:, :, (freqs >= fmin) & (freqs < fmax)].mean(axis=-1)\n",
    "        X.append(psds_band.reshape(len(psds), -1))\n",
    "\n",
    "    return np.concatenate(X, axis=1)\n",
    "\n",
    "frequency_domain_pipeline = Pipeline([\n",
    "    ('get_psds_from_epochs', FunctionTransformer(get_psds_from_epochs, validate=False)),\n",
    "    ('frequency_domain_features', FunctionTransformer(get_mean_psds, validate=False))\n",
    "])"
   ]
  },
  {
   "cell_type": "code",
   "execution_count": 102,
   "metadata": {},
   "outputs": [],
   "source": [
    "features = []\n",
    "labels = []\n",
    "groups = []\n",
    "\n",
    "def load_data(filename):\n",
    "    eeg_data = np.loadtxt(filename, skiprows=skiprows, delimiter=',', usecols=(1,2,3,4,5,6,7))\n",
    "    \n",
    "    npnts = len(eeg_data)\n",
    "    timevec = np.arange(0, npnts)/srate   \n",
    "\n",
    "    return eeg_data,timevec\n",
    "\n",
    "def create_raw(eeg_data):\n",
    "    raw_array = RawArray(eeg_data, info=RAW_INFO)\n",
    "\n",
    "#     raw_array.notch_filter(60)\n",
    "#     raw_array.filter(0.5, 60)\n",
    "\n",
    "    return raw_array\n",
    "\n",
    "def set_annotations(raw_array, timevec,event_onset):\n",
    "    actif_onset_index = np.where(event_onset == 1)\n",
    "    actif_onsets = timevec[actif_onset_index]\n",
    "    actif_duration = 3\n",
    "    actif_description = 'Actif'\n",
    "\n",
    "    repos_onsets = actif_onsets + actif_duration\n",
    "    repos_duration = 4\n",
    "    repos_description = 'Repos'\n",
    "\n",
    "    print(repos_onsets)\n",
    "    onsets = np.concatenate((actif_onsets, repos_onsets))\n",
    "    onsets = np.sort(onsets)\n",
    "\n",
    "    durations = []\n",
    "    descriptions = []\n",
    "    for i in range(0, int(len(onsets)/2)):\n",
    "        durations.append(actif_duration)\n",
    "        descriptions.append(actif_description)\n",
    "\n",
    "        durations.append(repos_duration)\n",
    "        descriptions.append(repos_description)\n",
    "\n",
    "    annotations = mne.Annotations(onsets, durations, descriptions)\n",
    "    raw_array.set_annotations(annotations)\n",
    "  \n",
    "    \n",
    "    return raw_array \n",
    "\n",
    "def create_epochs(raw_array, srate):\n",
    "    event_id = {'Repos':0, 'Actif':1}\n",
    "    events, annot_event_id = mne.events_from_annotations(raw_array, event_id=event_id, chunk_duration=1)\n",
    "    epochs = mne.Epochs(raw=raw_array, events=events, event_id=event_id, tmin=0, tmax=1-(1/srate), preload=True, baseline=None, verbose=False)\n",
    "    y = events[:,2]\n",
    "    return epochs, y\n",
    "    \n",
    "eeg_data, timevec = load_data(filename)\n",
    "eeg_data = eeg_data.T"
   ]
  },
  {
   "cell_type": "code",
   "execution_count": 103,
   "metadata": {},
   "outputs": [
    {
     "name": "stdout",
     "output_type": "stream",
     "text": [
      "[   499   2249   3999   5749   7499   9249  10999  12749  14499  16249\n",
      "  17999  19749  21499  23249  24999  26749  28499  30249  31999  33749\n",
      "  35499  37249  38999  40749  42499  44249  45999  47749  49499  51249\n",
      "  52999  54749  56499  58249  59999  61749  63499  65249  66999  68749\n",
      "  70499  72249  73999  75749  77499  79249  80999  82749  84499  86249\n",
      "  87999  89749  91499  93249  94999  96749  98499 100249 101999 103749\n",
      " 105499 107249 108999 110749 112499 114249 115999 117749 119499 121249\n",
      " 122999 124749 126499 128249 129999 131749 133499 135249 136999 138749\n",
      " 140499 142249 143999 145749 147499 149249 150999 152749 154499 156249\n",
      " 157999 159749 161499 163249 164999 166749 168499 170249 171999 173749\n",
      " 175499 177249 178999 180749 182499 184249 185999 187749 189499 191249\n",
      " 192999]\n",
      "[0. 0. 0. ... 0. 0. 0.]\n",
      "Creating RawArray with float64 data, n_channels=7, n_times=193495\n",
      "    Range : 0 ... 193494 =      0.000 ...   773.976 secs\n",
      "Ready.\n",
      "[  4.996  11.996  18.996  25.996  32.996  39.996  46.996  53.996  60.996\n",
      "  67.996  74.996  81.996  88.996  95.996 102.996 109.996 116.996 123.996\n",
      " 130.996 137.996 144.996 151.996 158.996 165.996 172.996 179.996 186.996\n",
      " 193.996 200.996 207.996 214.996 221.996 228.996 235.996 242.996 249.996\n",
      " 256.996 263.996 270.996 277.996 284.996 291.996 298.996 305.996 312.996\n",
      " 319.996 326.996 333.996 340.996 347.996 354.996 361.996 368.996 375.996\n",
      " 382.996 389.996 396.996 403.996 410.996 417.996 424.996 431.996 438.996\n",
      " 445.996 452.996 459.996 466.996 473.996 480.996 487.996 494.996 501.996\n",
      " 508.996 515.996 522.996 529.996 536.996 543.996 550.996 557.996 564.996\n",
      " 571.996 578.996 585.996 592.996 599.996 606.996 613.996 620.996 627.996\n",
      " 634.996 641.996 648.996 655.996 662.996 669.996 676.996 683.996 690.996\n",
      " 697.996 704.996 711.996 718.996 725.996 732.996 739.996 746.996 753.996\n",
      " 760.996 767.996 774.996]\n",
      "Used Annotations descriptions: ['Actif', 'Repos']\n"
     ]
    },
    {
     "name": "stderr",
     "output_type": "stream",
     "text": [
      "<ipython-input-102-9843d82e64ea>:45: RuntimeWarning: Omitted 1 annotation(s) that were outside data range.\n",
      "  raw_array.set_annotations(annotations)\n",
      "<ipython-input-102-9843d82e64ea>:45: RuntimeWarning: Limited 1 annotation(s) that were expanding outside the data range.\n",
      "  raw_array.set_annotations(annotations)\n"
     ]
    }
   ],
   "source": [
    "event_onset_idx = np.insert(\n",
    "    np.arange(srate*2+7*srate-1, len(eeg_data[0]), 7*srate),\n",
    "    0,\n",
    "    srate*2-1\n",
    ")\n",
    "print(event_onset_idx)\n",
    "event_onset = np.zeros(timevec.shape[0])\n",
    "event_onset[event_onset_idx] = 1\n",
    "print(event_onset)\n",
    "\n",
    "eeg_raw = create_raw(eeg_data)\n",
    "eeg_raw = set_annotations(eeg_raw, timevec, event_onset)\n",
    "eeg_epochs, y = create_epochs(eeg_raw, srate)\n"
   ]
  },
  {
   "cell_type": "code",
   "execution_count": 104,
   "metadata": {},
   "outputs": [
    {
     "name": "stdout",
     "output_type": "stream",
     "text": [
      "Effective window size : 1.000 (s)\n"
     ]
    }
   ],
   "source": [
    "features = frequency_domain_pipeline.transform(eeg_epochs)\n",
    "labels = y"
   ]
  },
  {
   "cell_type": "code",
   "execution_count": 105,
   "metadata": {},
   "outputs": [
    {
     "data": {
      "text/plain": [
       "((769, 35), (769,))"
      ]
     },
     "execution_count": 105,
     "metadata": {},
     "output_type": "execute_result"
    }
   ],
   "source": [
    "features.shape, labels.shape"
   ]
  },
  {
   "cell_type": "code",
   "execution_count": 106,
   "metadata": {},
   "outputs": [
    {
     "name": "stdout",
     "output_type": "stream",
     "text": [
      "              precision    recall  f1-score   support\n",
      "\n",
      "           0       0.66      0.85      0.74       110\n",
      "           1       0.67      0.42      0.52        83\n",
      "\n",
      "    accuracy                           0.66       193\n",
      "   macro avg       0.67      0.63      0.63       193\n",
      "weighted avg       0.67      0.66      0.65       193\n",
      "\n"
     ]
    }
   ],
   "source": [
    "X_train, X_test, y_train, y_test = train_test_split(features, labels, stratify=labels, random_state=0)\n",
    "\n",
    "forest = Pipeline([\n",
    "    ('std_scaler', StandardScaler()),\n",
    "    ('clf', \n",
    "         RandomForestClassifier(n_estimators=100, random_state=0, max_depth=10)\n",
    "#          RandomForestClassifier(n_estimators=800, random_state=0, max_depth=20, min_samples_split=2, min_samples_leaf=1, max_features='sqrt', bootstrap=False)\n",
    "    ),\n",
    "]).fit(X_train, y_train)\n",
    "\n",
    "y_pred = forest.predict(X_test)\n",
    "print(classification_report(y_test, y_pred))"
   ]
  },
  {
   "cell_type": "code",
   "execution_count": 107,
   "metadata": {},
   "outputs": [
    {
     "data": {
      "text/plain": [
       "['models/rf_openbci_trained.joblib']"
      ]
     },
     "execution_count": 107,
     "metadata": {},
     "output_type": "execute_result"
    }
   ],
   "source": [
    "joblib.dump(forest, 'models/rf_openbci_trained.joblib')"
   ]
  },
  {
   "cell_type": "code",
   "execution_count": null,
   "metadata": {},
   "outputs": [],
   "source": []
  }
 ],
 "metadata": {
  "kernelspec": {
   "display_name": "Python 3",
   "language": "python",
   "name": "python3"
  },
  "language_info": {
   "codemirror_mode": {
    "name": "ipython",
    "version": 3
   },
   "file_extension": ".py",
   "mimetype": "text/x-python",
   "name": "python",
   "nbconvert_exporter": "python",
   "pygments_lexer": "ipython3",
   "version": "3.6.8"
  }
 },
 "nbformat": 4,
 "nbformat_minor": 4
}
