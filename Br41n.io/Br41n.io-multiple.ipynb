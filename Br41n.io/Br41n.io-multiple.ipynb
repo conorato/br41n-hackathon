{
 "cells": [
  {
   "cell_type": "markdown",
   "metadata": {},
   "source": [
    "# Br41n.io hackaton"
   ]
  },
  {
   "cell_type": "markdown",
   "metadata": {},
   "source": [
    "Data visualization"
   ]
  },
  {
   "cell_type": "code",
   "execution_count": 1,
   "metadata": {},
   "outputs": [],
   "source": [
    "import matplotlib.pyplot as plt\n",
    "import numpy as np\n",
    "import mne\n",
    "\n",
    "from scipy.io import loadmat\n",
    "from mne.io import RawArray\n",
    "from mne import create_info\n",
    "from mne.time_frequency import psd_welch\n",
    "\n",
    "from sklearn.model_selection import train_test_split\n",
    "from sklearn.pipeline import Pipeline\n",
    "from sklearn.preprocessing import (\n",
    "    FunctionTransformer,\n",
    "    StandardScaler,\n",
    ")\n",
    "from sklearn.neighbors import KNeighborsClassifier\n",
    "from sklearn.model_selection import GroupShuffleSplit\n",
    "from sklearn.ensemble import RandomForestClassifier\n",
    "\n",
    "import joblib\n",
    "\n",
    "%gui qt\n",
    "%matplotlib qt"
   ]
  },
  {
   "cell_type": "code",
   "execution_count": 2,
   "metadata": {},
   "outputs": [],
   "source": [
    "CH_TO_KEEP = ['Cz', 'FC2', 'CP2', 'C4', 'FC6', 'CP6', 'T8']\n",
    "CH_TO_KEEP_INDEX = [41, 43, 45, 47, 49, 53, 55]\n",
    "\n",
    "CH_NAMES = mne.channels.make_standard_montage('biosemi64').ch_names"
   ]
  },
  {
   "cell_type": "markdown",
   "metadata": {},
   "source": [
    "## initialisation of the variables"
   ]
  },
  {
   "cell_type": "code",
   "execution_count": 3,
   "metadata": {},
   "outputs": [],
   "source": [
    "def load_data(filename):\n",
    "    s01 = loadmat(filename)\n",
    "    eeg_data = s01['eeg']\n",
    "    value = eeg_data[0,0]\n",
    "\n",
    "    srate = value['srate'][0,0]\n",
    "    n_trials = value['n_imagery_trials'][0,0]\n",
    "\n",
    "    bad_trials = value['bad_trial_indices']\n",
    "    event_onset = value['imagery_event'][0]\n",
    "    senloc = value['senloc']\n",
    "\n",
    "    rest_signal = value['rest']\n",
    "    imagery_left = value['imagery_left']\n",
    "\n",
    "    npnts = len(imagery_left[0])\n",
    "    timevec = np.arange(0, npnts)/srate    \n",
    "    \n",
    "    return imagery_left,timevec,srate,event_onset,senloc"
   ]
  },
  {
   "cell_type": "markdown",
   "metadata": {},
   "source": [
    "## mne object creation"
   ]
  },
  {
   "cell_type": "code",
   "execution_count": 4,
   "metadata": {},
   "outputs": [],
   "source": [
    "def create_raw(eeg_data, electrodes_position):\n",
    "    raw_array = RawArray(imagery_left[CH_TO_KEEP_INDEX], info=create_info(sfreq=srate, ch_types='eeg', ch_names=CH_TO_KEEP))\n",
    "\n",
    "    montage = {key:value for key, value in zip(CH_NAMES, electrodes_position)}\n",
    "    raw_array.set_montage(mne.channels.make_dig_montage(montage))\n",
    "\n",
    "    raw_array.notch_filter(60)\n",
    "    raw_array.filter(0.5, 60)\n",
    "    \n",
    "    return raw_array"
   ]
  },
  {
   "cell_type": "markdown",
   "metadata": {},
   "source": [
    "## Adding annotations"
   ]
  },
  {
   "cell_type": "code",
   "execution_count": 5,
   "metadata": {},
   "outputs": [],
   "source": [
    "def set_annotations(raw_array, event_onset, timevec):\n",
    "    actif_onset_index = np.where(event_onset == 1)\n",
    "    actif_onsets = timevec[actif_onset_index]\n",
    "    actif_duration = 3\n",
    "    actif_description = 'Actif'\n",
    "\n",
    "    repos_onsets = actif_onsets + actif_duration\n",
    "    repos_duration = 4\n",
    "    repos_description = 'Repos'\n",
    "\n",
    "    onsets = np.concatenate((actif_onsets, repos_onsets))\n",
    "    onsets = np.sort(onsets)\n",
    "\n",
    "    durations = []\n",
    "    descriptions = []\n",
    "    for i in range(0, int(len(onsets)/2)):\n",
    "        durations.append(actif_duration)\n",
    "        descriptions.append(actif_description)\n",
    "\n",
    "        durations.append(repos_duration)\n",
    "        descriptions.append(repos_description)\n",
    "\n",
    "    annotations = mne.Annotations(onsets, durations, descriptions)\n",
    "    raw_array.set_annotations(annotations)\n",
    "    \n",
    "    return raw_array"
   ]
  },
  {
   "cell_type": "markdown",
   "metadata": {},
   "source": [
    "## Epoching"
   ]
  },
  {
   "cell_type": "code",
   "execution_count": 6,
   "metadata": {},
   "outputs": [],
   "source": [
    "def create_epochs(raw_array, srate):\n",
    "    event_id = {'Repos':0, 'Actif':1}\n",
    "    events, annot_event_id = mne.events_from_annotations(raw_array, event_id=event_id, chunk_duration=1)\n",
    "    epochs = mne.Epochs(raw=raw_array, events=events, event_id=event_id, tmin=0, tmax=1-(1/srate), preload=True, baseline=None, verbose=False)\n",
    "    y = events[:,2]\n",
    "    return epochs, y"
   ]
  },
  {
   "cell_type": "markdown",
   "metadata": {},
   "source": [
    "## Spectrogram"
   ]
  },
  {
   "cell_type": "code",
   "execution_count": 7,
   "metadata": {},
   "outputs": [],
   "source": [
    "FREQ_BANDS_RANGE = {\n",
    "    'DELTA': [0.5, 4.5],\n",
    "    'THETA': [4.5, 8.5],\n",
    "    'ALPHA': [8.5, 11.5],\n",
    "    'SIGMA': [11.5, 15.5],\n",
    "    'BETA': [15.5, 30]\n",
    "}\n",
    "\n",
    "def get_psds_from_epochs(epochs):\n",
    "    \"\"\"Extracts power spectrum densities from epochs\n",
    "    Returns\n",
    "    --------\n",
    "    psds with associated frequencies calculated with the welch method.\n",
    "    \"\"\"\n",
    "    psds, freqs = psd_welch(epochs, fmin=0.5, fmax=30.)\n",
    "    return psds, freqs\n",
    "\n",
    "def get_mean_psds(psds_with_freqs, are_relative=False):\n",
    "    \"\"\"EEG power band feature extraction.\n",
    "    Input\n",
    "    -------\n",
    "    psds_with_freqs: tuple which contains\n",
    "            - (nb_epochs, nb_chan=1, nb_freqs) psds amplitudes\n",
    "            - (nb_freqs,) corresponding frequency values\n",
    "            \n",
    "    are_relative: boolean which indicates if the mean band powers\n",
    "        for each subband are relative to the total power or not.\n",
    "    \n",
    "    Returns\n",
    "    -------\n",
    "    X : numpy array of shape [n_samples, nb_subband=5]\n",
    "        Transformed data.\n",
    "    \"\"\"\n",
    "    psds = psds_with_freqs[0]\n",
    "    freqs = psds_with_freqs[1]\n",
    "    \n",
    "    if are_relative:\n",
    "        psds /= np.sum(psds, axis=-1, keepdims=True)\n",
    "\n",
    "    X = []\n",
    "    for fmin, fmax in FREQ_BANDS_RANGE.values():\n",
    "        psds_band = psds[:, :, (freqs >= fmin) & (freqs < fmax)].mean(axis=-1)\n",
    "        X.append(psds_band.reshape(len(psds), -1))\n",
    "\n",
    "    return np.concatenate(X, axis=1)\n",
    "\n",
    "frequency_domain_pipeline = Pipeline([\n",
    "    ('get_psds_from_epochs', FunctionTransformer(get_psds_from_epochs, validate=False)),\n",
    "    ('frequency_domain_features', FunctionTransformer(get_mean_psds, validate=False))\n",
    "])"
   ]
  },
  {
   "cell_type": "markdown",
   "metadata": {},
   "source": [
    "## Run on many files\n"
   ]
  },
  {
   "cell_type": "code",
   "execution_count": 8,
   "metadata": {},
   "outputs": [
    {
     "name": "stdout",
     "output_type": "stream",
     "text": [
      "Creating RawArray with float64 data, n_channels=7, n_times=358400\n",
      "    Range : 0 ... 358399 =      0.000 ...   699.998 secs\n",
      "Ready.\n",
      "Setting up band-stop filter from 59 - 61 Hz\n",
      "\n",
      "FIR filter parameters\n",
      "---------------------\n",
      "Designing a one-pass, zero-phase, non-causal bandstop filter:\n",
      "- Windowed time-domain design (firwin) method\n",
      "- Hamming window with 0.0194 passband ripple and 53 dB stopband attenuation\n",
      "- Lower passband edge: 59.35\n",
      "- Lower transition bandwidth: 0.50 Hz (-6 dB cutoff frequency: 59.10 Hz)\n",
      "- Upper passband edge: 60.65 Hz\n",
      "- Upper transition bandwidth: 0.50 Hz (-6 dB cutoff frequency: 60.90 Hz)\n",
      "- Filter length: 3379 samples (6.600 sec)\n",
      "\n"
     ]
    },
    {
     "name": "stderr",
     "output_type": "stream",
     "text": [
      "<ipython-input-4-2054de3508dd>:5: RuntimeWarning: Fiducial point nasion not found, assuming identity unknown to head transformation\n",
      "  raw_array.set_montage(mne.channels.make_dig_montage(montage))\n"
     ]
    },
    {
     "name": "stdout",
     "output_type": "stream",
     "text": [
      "Filtering raw data in 1 contiguous segment\n",
      "Setting up band-pass filter from 0.5 - 60 Hz\n",
      "\n",
      "FIR filter parameters\n",
      "---------------------\n",
      "Designing a one-pass, zero-phase, non-causal bandpass filter:\n",
      "- Windowed time-domain design (firwin) method\n",
      "- Hamming window with 0.0194 passband ripple and 53 dB stopband attenuation\n",
      "- Lower passband edge: 0.50\n",
      "- Lower transition bandwidth: 0.50 Hz (-6 dB cutoff frequency: 0.25 Hz)\n",
      "- Upper passband edge: 60.00 Hz\n",
      "- Upper transition bandwidth: 15.00 Hz (-6 dB cutoff frequency: 67.50 Hz)\n",
      "- Filter length: 3379 samples (6.600 sec)\n",
      "\n",
      "Used Annotations descriptions: ['Actif', 'Repos']\n"
     ]
    },
    {
     "name": "stderr",
     "output_type": "stream",
     "text": [
      "<ipython-input-5-97290386f970>:24: RuntimeWarning: Limited 1 annotation(s) that were expanding outside the data range.\n",
      "  raw_array.set_annotations(annotations)\n"
     ]
    },
    {
     "name": "stdout",
     "output_type": "stream",
     "text": [
      "Effective window size : 0.500 (s)\n",
      "Creating RawArray with float64 data, n_channels=7, n_times=358400\n",
      "    Range : 0 ... 358399 =      0.000 ...   699.998 secs\n",
      "Ready.\n",
      "Setting up band-stop filter from 59 - 61 Hz\n",
      "\n",
      "FIR filter parameters\n",
      "---------------------\n",
      "Designing a one-pass, zero-phase, non-causal bandstop filter:\n",
      "- Windowed time-domain design (firwin) method\n",
      "- Hamming window with 0.0194 passband ripple and 53 dB stopband attenuation\n",
      "- Lower passband edge: 59.35\n",
      "- Lower transition bandwidth: 0.50 Hz (-6 dB cutoff frequency: 59.10 Hz)\n",
      "- Upper passband edge: 60.65 Hz\n",
      "- Upper transition bandwidth: 0.50 Hz (-6 dB cutoff frequency: 60.90 Hz)\n",
      "- Filter length: 3379 samples (6.600 sec)\n",
      "\n"
     ]
    },
    {
     "name": "stderr",
     "output_type": "stream",
     "text": [
      "<ipython-input-4-2054de3508dd>:5: RuntimeWarning: Fiducial point nasion not found, assuming identity unknown to head transformation\n",
      "  raw_array.set_montage(mne.channels.make_dig_montage(montage))\n"
     ]
    },
    {
     "name": "stdout",
     "output_type": "stream",
     "text": [
      "Filtering raw data in 1 contiguous segment\n",
      "Setting up band-pass filter from 0.5 - 60 Hz\n",
      "\n",
      "FIR filter parameters\n",
      "---------------------\n",
      "Designing a one-pass, zero-phase, non-causal bandpass filter:\n",
      "- Windowed time-domain design (firwin) method\n",
      "- Hamming window with 0.0194 passband ripple and 53 dB stopband attenuation\n",
      "- Lower passband edge: 0.50\n",
      "- Lower transition bandwidth: 0.50 Hz (-6 dB cutoff frequency: 0.25 Hz)\n",
      "- Upper passband edge: 60.00 Hz\n",
      "- Upper transition bandwidth: 15.00 Hz (-6 dB cutoff frequency: 67.50 Hz)\n",
      "- Filter length: 3379 samples (6.600 sec)\n",
      "\n",
      "Used Annotations descriptions: ['Actif', 'Repos']\n"
     ]
    },
    {
     "name": "stderr",
     "output_type": "stream",
     "text": [
      "<ipython-input-5-97290386f970>:24: RuntimeWarning: Limited 1 annotation(s) that were expanding outside the data range.\n",
      "  raw_array.set_annotations(annotations)\n"
     ]
    },
    {
     "name": "stdout",
     "output_type": "stream",
     "text": [
      "Effective window size : 0.500 (s)\n",
      "Creating RawArray with float64 data, n_channels=7, n_times=358400\n",
      "    Range : 0 ... 358399 =      0.000 ...   699.998 secs\n",
      "Ready.\n",
      "Setting up band-stop filter from 59 - 61 Hz\n",
      "\n",
      "FIR filter parameters\n",
      "---------------------\n",
      "Designing a one-pass, zero-phase, non-causal bandstop filter:\n",
      "- Windowed time-domain design (firwin) method\n",
      "- Hamming window with 0.0194 passband ripple and 53 dB stopband attenuation\n",
      "- Lower passband edge: 59.35\n",
      "- Lower transition bandwidth: 0.50 Hz (-6 dB cutoff frequency: 59.10 Hz)\n",
      "- Upper passband edge: 60.65 Hz\n",
      "- Upper transition bandwidth: 0.50 Hz (-6 dB cutoff frequency: 60.90 Hz)\n",
      "- Filter length: 3379 samples (6.600 sec)\n",
      "\n"
     ]
    },
    {
     "name": "stderr",
     "output_type": "stream",
     "text": [
      "<ipython-input-4-2054de3508dd>:5: RuntimeWarning: Fiducial point nasion not found, assuming identity unknown to head transformation\n",
      "  raw_array.set_montage(mne.channels.make_dig_montage(montage))\n"
     ]
    },
    {
     "name": "stdout",
     "output_type": "stream",
     "text": [
      "Filtering raw data in 1 contiguous segment\n",
      "Setting up band-pass filter from 0.5 - 60 Hz\n",
      "\n",
      "FIR filter parameters\n",
      "---------------------\n",
      "Designing a one-pass, zero-phase, non-causal bandpass filter:\n",
      "- Windowed time-domain design (firwin) method\n",
      "- Hamming window with 0.0194 passband ripple and 53 dB stopband attenuation\n",
      "- Lower passband edge: 0.50\n",
      "- Lower transition bandwidth: 0.50 Hz (-6 dB cutoff frequency: 0.25 Hz)\n",
      "- Upper passband edge: 60.00 Hz\n",
      "- Upper transition bandwidth: 15.00 Hz (-6 dB cutoff frequency: 67.50 Hz)\n",
      "- Filter length: 3379 samples (6.600 sec)\n",
      "\n",
      "Used Annotations descriptions: ['Actif', 'Repos']\n"
     ]
    },
    {
     "name": "stderr",
     "output_type": "stream",
     "text": [
      "<ipython-input-5-97290386f970>:24: RuntimeWarning: Limited 1 annotation(s) that were expanding outside the data range.\n",
      "  raw_array.set_annotations(annotations)\n"
     ]
    },
    {
     "name": "stdout",
     "output_type": "stream",
     "text": [
      "Effective window size : 0.500 (s)\n",
      "Creating RawArray with float64 data, n_channels=7, n_times=358400\n",
      "    Range : 0 ... 358399 =      0.000 ...   699.998 secs\n",
      "Ready.\n",
      "Setting up band-stop filter from 59 - 61 Hz\n",
      "\n",
      "FIR filter parameters\n",
      "---------------------\n",
      "Designing a one-pass, zero-phase, non-causal bandstop filter:\n",
      "- Windowed time-domain design (firwin) method\n",
      "- Hamming window with 0.0194 passband ripple and 53 dB stopband attenuation\n",
      "- Lower passband edge: 59.35\n",
      "- Lower transition bandwidth: 0.50 Hz (-6 dB cutoff frequency: 59.10 Hz)\n",
      "- Upper passband edge: 60.65 Hz\n",
      "- Upper transition bandwidth: 0.50 Hz (-6 dB cutoff frequency: 60.90 Hz)\n",
      "- Filter length: 3379 samples (6.600 sec)\n",
      "\n",
      "Filtering raw data in 1 contiguous segment\n",
      "Setting up band-pass filter from 0.5 - 60 Hz\n",
      "\n",
      "FIR filter parameters\n",
      "---------------------\n",
      "Designing a one-pass, zero-phase, non-causal bandpass filter:\n",
      "- Windowed time-domain design (firwin) method\n",
      "- Hamming window with 0.0194 passband ripple and 53 dB stopband attenuation\n",
      "- Lower passband edge: 0.50\n",
      "- Lower transition bandwidth: 0.50 Hz (-6 dB cutoff frequency: 0.25 Hz)\n",
      "- Upper passband edge: 60.00 Hz\n",
      "- Upper transition bandwidth: 15.00 Hz (-6 dB cutoff frequency: 67.50 Hz)\n"
     ]
    },
    {
     "name": "stderr",
     "output_type": "stream",
     "text": [
      "<ipython-input-4-2054de3508dd>:5: RuntimeWarning: Fiducial point nasion not found, assuming identity unknown to head transformation\n",
      "  raw_array.set_montage(mne.channels.make_dig_montage(montage))\n"
     ]
    },
    {
     "name": "stdout",
     "output_type": "stream",
     "text": [
      "- Filter length: 3379 samples (6.600 sec)\n",
      "\n",
      "Used Annotations descriptions: ['Actif', 'Repos']\n"
     ]
    },
    {
     "name": "stderr",
     "output_type": "stream",
     "text": [
      "<ipython-input-5-97290386f970>:24: RuntimeWarning: Limited 1 annotation(s) that were expanding outside the data range.\n",
      "  raw_array.set_annotations(annotations)\n"
     ]
    },
    {
     "name": "stdout",
     "output_type": "stream",
     "text": [
      "Effective window size : 0.500 (s)\n",
      "Creating RawArray with float64 data, n_channels=7, n_times=358400\n",
      "    Range : 0 ... 358399 =      0.000 ...   699.998 secs\n",
      "Ready.\n",
      "Setting up band-stop filter from 59 - 61 Hz\n",
      "\n",
      "FIR filter parameters\n",
      "---------------------\n",
      "Designing a one-pass, zero-phase, non-causal bandstop filter:\n",
      "- Windowed time-domain design (firwin) method\n",
      "- Hamming window with 0.0194 passband ripple and 53 dB stopband attenuation\n",
      "- Lower passband edge: 59.35\n",
      "- Lower transition bandwidth: 0.50 Hz (-6 dB cutoff frequency: 59.10 Hz)\n",
      "- Upper passband edge: 60.65 Hz\n",
      "- Upper transition bandwidth: 0.50 Hz (-6 dB cutoff frequency: 60.90 Hz)\n",
      "- Filter length: 3379 samples (6.600 sec)\n",
      "\n",
      "Filtering raw data in 1 contiguous segment\n",
      "Setting up band-pass filter from 0.5 - 60 Hz\n",
      "\n",
      "FIR filter parameters\n",
      "---------------------\n",
      "Designing a one-pass, zero-phase, non-causal bandpass filter:\n",
      "- Windowed time-domain design (firwin) method\n",
      "- Hamming window with 0.0194 passband ripple and 53 dB stopband attenuation\n",
      "- Lower passband edge: 0.50\n",
      "- Lower transition bandwidth: 0.50 Hz (-6 dB cutoff frequency: 0.25 Hz)\n",
      "- Upper passband edge: 60.00 Hz\n",
      "- Upper transition bandwidth: 15.00 Hz (-6 dB cutoff frequency: 67.50 Hz)\n",
      "- Filter length: 3379 samples (6.600 sec)\n"
     ]
    },
    {
     "name": "stderr",
     "output_type": "stream",
     "text": [
      "<ipython-input-4-2054de3508dd>:5: RuntimeWarning: Fiducial point nasion not found, assuming identity unknown to head transformation\n",
      "  raw_array.set_montage(mne.channels.make_dig_montage(montage))\n"
     ]
    },
    {
     "name": "stdout",
     "output_type": "stream",
     "text": [
      "\n",
      "Used Annotations descriptions: ['Actif', 'Repos']\n"
     ]
    },
    {
     "name": "stderr",
     "output_type": "stream",
     "text": [
      "<ipython-input-5-97290386f970>:24: RuntimeWarning: Limited 1 annotation(s) that were expanding outside the data range.\n",
      "  raw_array.set_annotations(annotations)\n"
     ]
    },
    {
     "name": "stdout",
     "output_type": "stream",
     "text": [
      "Effective window size : 0.500 (s)\n",
      "Creating RawArray with float64 data, n_channels=7, n_times=358400\n",
      "    Range : 0 ... 358399 =      0.000 ...   699.998 secs\n",
      "Ready.\n",
      "Setting up band-stop filter from 59 - 61 Hz\n",
      "\n",
      "FIR filter parameters\n",
      "---------------------\n",
      "Designing a one-pass, zero-phase, non-causal bandstop filter:\n",
      "- Windowed time-domain design (firwin) method\n",
      "- Hamming window with 0.0194 passband ripple and 53 dB stopband attenuation\n",
      "- Lower passband edge: 59.35\n",
      "- Lower transition bandwidth: 0.50 Hz (-6 dB cutoff frequency: 59.10 Hz)\n",
      "- Upper passband edge: 60.65 Hz\n",
      "- Upper transition bandwidth: 0.50 Hz (-6 dB cutoff frequency: 60.90 Hz)\n",
      "- Filter length: 3379 samples (6.600 sec)\n",
      "\n",
      "Filtering raw data in 1 contiguous segment\n",
      "Setting up band-pass filter from 0.5 - 60 Hz\n",
      "\n",
      "FIR filter parameters\n",
      "---------------------\n"
     ]
    },
    {
     "name": "stderr",
     "output_type": "stream",
     "text": [
      "<ipython-input-4-2054de3508dd>:5: RuntimeWarning: Fiducial point nasion not found, assuming identity unknown to head transformation\n",
      "  raw_array.set_montage(mne.channels.make_dig_montage(montage))\n"
     ]
    },
    {
     "name": "stdout",
     "output_type": "stream",
     "text": [
      "Designing a one-pass, zero-phase, non-causal bandpass filter:\n",
      "- Windowed time-domain design (firwin) method\n",
      "- Hamming window with 0.0194 passband ripple and 53 dB stopband attenuation\n",
      "- Lower passband edge: 0.50\n",
      "- Lower transition bandwidth: 0.50 Hz (-6 dB cutoff frequency: 0.25 Hz)\n",
      "- Upper passband edge: 60.00 Hz\n",
      "- Upper transition bandwidth: 15.00 Hz (-6 dB cutoff frequency: 67.50 Hz)\n",
      "- Filter length: 3379 samples (6.600 sec)\n",
      "\n",
      "Used Annotations descriptions: ['Actif', 'Repos']\n"
     ]
    },
    {
     "name": "stderr",
     "output_type": "stream",
     "text": [
      "<ipython-input-5-97290386f970>:24: RuntimeWarning: Limited 1 annotation(s) that were expanding outside the data range.\n",
      "  raw_array.set_annotations(annotations)\n"
     ]
    },
    {
     "name": "stdout",
     "output_type": "stream",
     "text": [
      "Effective window size : 0.500 (s)\n"
     ]
    }
   ],
   "source": [
    "filenames = ['dataset/s01.mat', 'dataset/s02.mat', 'dataset/s03.mat', 'dataset/s04.mat', 'dataset/s05.mat', 'dataset/s06.mat']\n",
    "\n",
    "features = []\n",
    "labels = []\n",
    "groups = []\n",
    "\n",
    "for index, filename in enumerate(filenames):\n",
    "    imagery_left, timevec, srate, event_onset, senloc = load_data(filename)\n",
    "    imagery_left_raw = create_raw(imagery_left, senloc)\n",
    "    imagery_left_raw = set_annotations(imagery_left_raw, event_onset, timevec)\n",
    "    imagery_left_epochs, y = create_epochs(imagery_left_raw, srate)\n",
    "    \n",
    "    features.append(frequency_domain_pipeline.transform(imagery_left_epochs))\n",
    "    labels.append(y)\n",
    "    groups.append(np.repeat(index, features[-1].shape[0]))\n",
    "\n",
    "\n",
    "features = np.concatenate(features, axis=0)\n",
    "labels = np.concatenate(labels, axis=0)\n",
    "groups = np.concatenate(groups, axis=0)"
   ]
  },
  {
   "cell_type": "markdown",
   "metadata": {},
   "source": [
    "## Entrainement d'un modele avec les bandes de frequences pour les differents channels"
   ]
  },
  {
   "cell_type": "markdown",
   "metadata": {},
   "source": [
    "### KNN"
   ]
  },
  {
   "cell_type": "code",
   "execution_count": 9,
   "metadata": {},
   "outputs": [
    {
     "data": {
      "text/plain": [
       "<matplotlib.legend.Legend at 0x1870015ee48>"
      ]
     },
     "execution_count": 9,
     "metadata": {},
     "output_type": "execute_result"
    },
    {
     "data": {
      "image/png": "[encoded data removed]",
      "text/plain": [
       "<Figure size 432x288 with 1 Axes>"
      ]
     },
     "metadata": {
      "needs_background": "light"
     },
     "output_type": "display_data"
    }
   ],
   "source": [
    "# Ces listes vont nous permettrent par la suite de visualiser l'evolution de la precision des modeles par rapport a leur\n",
    "# complexite pour les classificateurs.\n",
    "training_accuracy_clf = []\n",
    "test_accuracy_clf = []\n",
    "\n",
    "# X_train, X_test, y_train, y_test = train_test_split(features, labels, stratify=labels, random_state=66)\n",
    "\n",
    "shuffle_split = GroupShuffleSplit(n_splits=2, train_size=.7, random_state=42)\n",
    "train_idx, test_idx = next(shuffle_split.split(features, labels, groups=groups))\n",
    "X_train, X_test, y_train, y_test = features[train_idx], features[test_idx], labels[train_idx], labels[test_idx]\n",
    "\n",
    "neighbors_settings = range(15, 30)\n",
    "\n",
    "for n_neighbors in neighbors_settings:\n",
    "    clf = Pipeline([\n",
    "        ('std_scaler', StandardScaler()),\n",
    "        ('clf', KNeighborsClassifier(n_neighbors=n_neighbors)),\n",
    "    ])\n",
    "    clf.fit(X_train, y_train) # on l'entraine\n",
    "    training_accuracy_clf.append(clf.score(X_train, y_train)) # on ajoute la precision selon le train_set a la liste\n",
    "    test_accuracy_clf.append(clf.score(X_test, y_test)) # on ajoute la precision selon le test_set a la liste\n",
    "\n",
    "plt.plot(neighbors_settings, training_accuracy_clf, label=\"training accuracy\")\n",
    "plt.plot(neighbors_settings, test_accuracy_clf, label=\"test accuracy\")\n",
    "plt.title(\"KNN model accuracy for different K values\")\n",
    "plt.xlabel(\"K\")\n",
    "plt.ylabel(\"accuracy\")\n",
    "plt.legend()"
   ]
  },
  {
   "cell_type": "code",
   "execution_count": 10,
   "metadata": {},
   "outputs": [
    {
     "data": {
      "text/plain": [
       "array([1, 1, 1, ..., 1, 0, 0])"
      ]
     },
     "execution_count": 10,
     "metadata": {},
     "output_type": "execute_result"
    }
   ],
   "source": [
    "y_train"
   ]
  },
  {
   "cell_type": "code",
   "execution_count": 11,
   "metadata": {},
   "outputs": [
    {
     "data": {
      "text/plain": [
       "(array([2, 3, 4, 5]), array([0, 1]))"
      ]
     },
     "execution_count": 11,
     "metadata": {},
     "output_type": "execute_result"
    }
   ],
   "source": [
    "np.unique(groups[train_idx]), np.unique(groups[test_idx])"
   ]
  },
  {
   "cell_type": "markdown",
   "metadata": {},
   "source": [
    "## Random forest"
   ]
  },
  {
   "cell_type": "code",
   "execution_count": 14,
   "metadata": {},
   "outputs": [
    {
     "name": "stdout",
     "output_type": "stream",
     "text": [
      "1.0\n",
      "0.6826647564469914\n"
     ]
    }
   ],
   "source": [
    "# Split randomly\n",
    "# X_train, X_test, y_train, y_test = train_test_split(features, labels, stratify=labels, random_state=0)\n",
    "\n",
    "# Split according to subject (test contains new subject)\n",
    "shuffle_split = GroupShuffleSplit(n_splits=2, train_size=.7, random_state=42)\n",
    "train_idx, test_idx = next(shuffle_split.split(features, labels, groups=groups))\n",
    "X_train, X_test, y_train, y_test = features[train_idx], features[test_idx], labels[train_idx], labels[test_idx]\n",
    "\n",
    "# forest = RandomForestClassifier(n_estimators=100, random_state=0, max_depth=10).fit(X_train, y_train)\n",
    "\n",
    "forest = Pipeline([\n",
    "    ('std_scaler', StandardScaler()),\n",
    "    ('clf', RandomForestClassifier(n_estimators=800, random_state=0, max_depth=20, min_samples_split=2, min_samples_leaf=1, max_features='sqrt', bootstrap=False)),\n",
    "]).fit(X_train, y_train)\n",
    "\n",
    "print(forest.score(X_train, y_train))\n",
    "print(forest.score(X_test, y_test))\n"
   ]
  },
  {
   "cell_type": "code",
   "execution_count": 15,
   "metadata": {},
   "outputs": [
    {
     "data": {
      "text/plain": [
       "['models/rf.joblib']"
      ]
     },
     "execution_count": 15,
     "metadata": {},
     "output_type": "execute_result"
    }
   ],
   "source": [
    "joblib.dump(forest, 'models/rf.joblib')"
   ]
  },
  {
   "cell_type": "markdown",
   "metadata": {},
   "source": [
    "## ameliorations\n",
    "- a la place d'utiliser des epochs de 1 secondes en prendre de 3 secondes"
   ]
  }
 ],
 "metadata": {
  "kernelspec": {
   "display_name": "Python 3",
   "language": "python",
   "name": "python3"
  },
  "language_info": {
   "codemirror_mode": {
    "name": "ipython",
    "version": 3
   },
   "file_extension": ".py",
   "mimetype": "text/x-python",
   "name": "python",
   "nbconvert_exporter": "python",
   "pygments_lexer": "ipython3",
   "version": "3.7.3"
  }
 },
 "nbformat": 4,
 "nbformat_minor": 4
}
